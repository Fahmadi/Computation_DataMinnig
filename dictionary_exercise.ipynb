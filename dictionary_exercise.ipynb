{
 "cells": [
  {
   "cell_type": "markdown",
   "metadata": {},
   "source": [
    "<font color=green>__dictionary__</font>"
   ]
  },
  {
   "cell_type": "markdown",
   "metadata": {},
   "source": [
    "__Question 1:__"
   ]
  },
  {
   "cell_type": "markdown",
   "metadata": {},
   "source": [
    " Write a program that create a dictionary then check if specific key is in the dictionary or not?"
   ]
  },
  {
   "cell_type": "code",
   "execution_count": 1,
   "metadata": {},
   "outputs": [
    {
     "name": "stdout",
     "output_type": "stream",
     "text": [
      "Enter a name:Ahmadi\n",
      "True\n"
     ]
    }
   ],
   "source": [
    "tell={'Ahmadi':'0935', 'Samadi':'0912', 'Akbary':'0920','Nejati':'0916'}\n",
    "a = input('Enter a name:')\n",
    "print(a in tell.keys())"
   ]
  },
  {
   "cell_type": "markdown",
   "metadata": {},
   "source": [
    "__Question 2:__"
   ]
  },
  {
   "cell_type": "markdown",
   "metadata": {},
   "source": [
    "Define a function which can print a dictionary where the keys are numbers between 1 and 20 (both included) and the values are square of keys."
   ]
  },
  {
   "cell_type": "code",
   "execution_count": 2,
   "metadata": {},
   "outputs": [
    {
     "name": "stdout",
     "output_type": "stream",
     "text": [
      "{1: 1, 2: 4, 3: 9, 4: 16, 5: 25, 6: 36, 7: 49, 8: 64, 9: 81, 10: 100, 11: 121, 12: 144, 13: 169, 14: 196, 15: 225, 16: 256, 17: 289, 18: 324, 19: 361, 20: 400}\n"
     ]
    }
   ],
   "source": [
    "def printDict():\n",
    "    d={}\n",
    "    for i in range(1,21):\n",
    "        d[i]=i**2\n",
    "    print(d)\n",
    "    \n",
    "printDict()"
   ]
  },
  {
   "cell_type": "markdown",
   "metadata": {},
   "source": [
    "__Question 3__"
   ]
  },
  {
   "cell_type": "markdown",
   "metadata": {},
   "source": [
    "Sina forget his safeguard Pincode. but he know this informations about digits of pincode:\n",
    "    1. summation of Fifth digit and Third digit equals to 14\n",
    "    2. The first digit is less than double the second digit\n",
    "    3. The fourth digit is one more than the second digit\n",
    "    4. The summation of the second and third digits is ten.\n",
    "    5. The summation of the pin number digits is 30.\n",
    "    \n",
    "now, can you guess sina's pin code?"
   ]
  },
  {
   "cell_type": "code",
   "execution_count": 3,
   "metadata": {},
   "outputs": [
    {
     "name": "stdout",
     "output_type": "stream",
     "text": [
      "74658\n"
     ]
    }
   ],
   "source": [
    "def jam_argham(ramz_digits):\n",
    "    sum_digits = 0\n",
    "    for k in ramz_digits:\n",
    "        sum_digits = ramz_digits[k] + sum_digits\n",
    "    return sum_digits\n",
    "def ramz_is_ok(ramz_digits):\n",
    "    if ramz_digits['panj']+ ramz_digits['se'] == 14 and\\\n",
    "        ramz_digits['yek'] == ramz_digits['do']*2 - 1 and\\\n",
    "        ramz_digits['chahar'] == ramz_digits['do'] +1 and\\\n",
    "        ramz_digits['do']+ ramz_digits['se'] == 10 :\n",
    "            if jam_argham(ramz_digits)== 30:\n",
    "                return True\n",
    "\n",
    "for ramz in range(0,100000):\n",
    "    this_ramz = str(ramz).zfill(5)\n",
    "\n",
    "    ramz_digits = {}\n",
    "    ramz_digits['yek'] = int(this_ramz[0])\n",
    "    ramz_digits['do'] = int(this_ramz[1])\n",
    "    ramz_digits['se'] = int(this_ramz[2])\n",
    "    ramz_digits['chahar'] = int(this_ramz[3])\n",
    "    ramz_digits['panj'] = int(this_ramz[4])\n",
    "\n",
    "    if ramz_is_ok(ramz_digits):\n",
    "        print(ramz)"
   ]
  },
  {
   "cell_type": "code",
   "execution_count": null,
   "metadata": {},
   "outputs": [],
   "source": []
  }
 ],
 "metadata": {
  "kernelspec": {
   "display_name": "Python 3",
   "language": "python",
   "name": "python3"
  },
  "language_info": {
   "codemirror_mode": {
    "name": "ipython",
    "version": 3
   },
   "file_extension": ".py",
   "mimetype": "text/x-python",
   "name": "python",
   "nbconvert_exporter": "python",
   "pygments_lexer": "ipython3",
   "version": "3.6.5"
  }
 },
 "nbformat": 4,
 "nbformat_minor": 2
}
